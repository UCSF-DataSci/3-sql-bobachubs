{
 "cells": [
  {
   "cell_type": "markdown",
   "id": "ebb94371",
   "metadata": {},
   "source": [
    "# SQL Murder Mystery\n",
    "\n",
    "## Can you find out whodunnit?\n",
    "\n",
    "![A decorative illustration of a detective looking at an evidence board.](https://mystery.knightlab.com/174092-clue-illustration.png)\n",
    "\n",
    "There's been a Murder in SQL City! The SQL Murder Mystery is designed to be both a self-directed lesson to learn SQL concepts and commands and a fun game for experienced SQL users to solve an intriguing crime.\n",
    "\n",
    "## SQL sleuths start here\n",
    "\n",
    "A crime has taken place and the detective needs your help. The detective gave you the crime scene report, but you somehow lost it. You vaguely remember that the crime was a **​murder​**that occurred sometime on ​**Jan.15, 2018​** and that it took place in ​**SQL City​**. Start by retrieving the corresponding crime scene report from the police department’s database.\n",
    "\n",
    "### Exploring the Database Structure\n",
    "\n",
    "Experienced SQL users can often use database queries to infer the structure of a database. But each database system has different ways of managing this information. The SQL Murder Mystery is built using SQLite. Use this SQL command to find the tables in the Murder Mystery database.\n",
    "\n",
    "Run this query to find the names of the tables in this database.\n",
    "\n",
    "This command is specific to SQLite. For other databases, you'll have to learn their specific syntax.\n"
   ]
  },
  {
   "cell_type": "code",
   "execution_count": 30,
   "id": "1370e6a4",
   "metadata": {},
   "outputs": [
    {
     "name": "stdout",
     "output_type": "stream",
     "text": [
      "Note: you may need to restart the kernel to use updated packages.\n",
      "The sql extension is already loaded. To reload it, use:\n",
      "  %reload_ext sql\n"
     ]
    }
   ],
   "source": [
    "# Install required packages\n",
    "%pip install jupysql sqlalchemy pandas --quiet\n",
    "\n",
    "# Load SQL magic\n",
    "%load_ext sql\n",
    "\n",
    "# Connect to the database\n",
    "%sql sqlite:///sql-murder-mystery.db\n",
    "#%config SqlMagic.style = 'table'"
   ]
  },
  {
   "cell_type": "code",
   "execution_count": 31,
   "id": "2f0d9254",
   "metadata": {},
   "outputs": [
    {
     "data": {
      "text/html": [
       "<span style=\"None\">Running query in &#x27;sqlite:///sql-murder-mystery.db&#x27;</span>"
      ],
      "text/plain": [
       "Running query in 'sqlite:///sql-murder-mystery.db'"
      ]
     },
     "metadata": {},
     "output_type": "display_data"
    },
    {
     "data": {
      "text/html": [
       "<table>\n",
       "    <thead>\n",
       "        <tr>\n",
       "            <th>name</th>\n",
       "        </tr>\n",
       "    </thead>\n",
       "    <tbody>\n",
       "        <tr>\n",
       "            <td>crime_scene_report</td>\n",
       "        </tr>\n",
       "        <tr>\n",
       "            <td>drivers_license</td>\n",
       "        </tr>\n",
       "        <tr>\n",
       "            <td>facebook_event_checkin</td>\n",
       "        </tr>\n",
       "        <tr>\n",
       "            <td>interview</td>\n",
       "        </tr>\n",
       "        <tr>\n",
       "            <td>get_fit_now_member</td>\n",
       "        </tr>\n",
       "        <tr>\n",
       "            <td>sqlite_autoindex_get_fit_now_member_1</td>\n",
       "        </tr>\n",
       "        <tr>\n",
       "            <td>get_fit_now_check_in</td>\n",
       "        </tr>\n",
       "        <tr>\n",
       "            <td>solution</td>\n",
       "        </tr>\n",
       "        <tr>\n",
       "            <td>check_solution</td>\n",
       "        </tr>\n",
       "        <tr>\n",
       "            <td>income</td>\n",
       "        </tr>\n",
       "    </tbody>\n",
       "</table>\n",
       "<span style=\"font-style:italic;text-align:center;\">Truncated to <a href=\"https://jupysql.ploomber.io/en/latest/api/configuration.html#displaylimit\">displaylimit</a> of 10.</span>"
      ],
      "text/plain": [
       "+---------------------------------------+\n",
       "|                  name                 |\n",
       "+---------------------------------------+\n",
       "|           crime_scene_report          |\n",
       "|            drivers_license            |\n",
       "|         facebook_event_checkin        |\n",
       "|               interview               |\n",
       "|           get_fit_now_member          |\n",
       "| sqlite_autoindex_get_fit_now_member_1 |\n",
       "|          get_fit_now_check_in         |\n",
       "|                solution               |\n",
       "|             check_solution            |\n",
       "|                 income                |\n",
       "+---------------------------------------+\n",
       "Truncated to displaylimit of 10."
      ]
     },
     "execution_count": 31,
     "metadata": {},
     "output_type": "execute_result"
    }
   ],
   "source": [
    "%%sql\n",
    "SELECT name\n",
    "FROM sqlite_master"
   ]
  },
  {
   "cell_type": "markdown",
   "id": "c71b53aa",
   "metadata": {},
   "source": [
    "\n",
    "Besides knowing the table names, you need to know how each table is structured. The way this works is also dependent upon which database technology you use. Here's how you do it with SQLite.\n",
    "\n",
    "Run this query to find the structure of the `crime_scene_report` table\n",
    "\n",
    "Change the value of 'name' to see the structure of the other tables you learned about with the previous query.\n"
   ]
  },
  {
   "cell_type": "code",
   "execution_count": 32,
   "id": "a977d922",
   "metadata": {},
   "outputs": [
    {
     "data": {
      "text/html": [
       "<span style=\"None\">Running query in &#x27;sqlite:///sql-murder-mystery.db&#x27;</span>"
      ],
      "text/plain": [
       "Running query in 'sqlite:///sql-murder-mystery.db'"
      ]
     },
     "metadata": {},
     "output_type": "display_data"
    },
    {
     "data": {
      "text/html": [
       "<table>\n",
       "    <thead>\n",
       "        <tr>\n",
       "            <th>sql</th>\n",
       "        </tr>\n",
       "    </thead>\n",
       "    <tbody>\n",
       "        <tr>\n",
       "            <td>CREATE TABLE crime_scene_report (<br>        date integer,<br>        type text,<br>        description text,<br>        city text<br>    )</td>\n",
       "        </tr>\n",
       "    </tbody>\n",
       "</table>"
      ],
      "text/plain": [
       "+-----------------------------------+\n",
       "|                sql                |\n",
       "+-----------------------------------+\n",
       "| CREATE TABLE crime_scene_report ( |\n",
       "|               date integer,       |\n",
       "|                 type text,        |\n",
       "|             description text,     |\n",
       "|                 city text         |\n",
       "|                   )               |\n",
       "+-----------------------------------+"
      ]
     },
     "execution_count": 32,
     "metadata": {},
     "output_type": "execute_result"
    }
   ],
   "source": [
    "%%sql\n",
    "SELECT sql\n",
    "FROM sqlite_master\n",
    "where name = 'crime_scene_report'"
   ]
  },
  {
   "cell_type": "markdown",
   "id": "d9789bc7",
   "metadata": {},
   "source": [
    "\n",
    "### The rest is up to you!\n",
    "\n",
    "If you're really comfortable with SQL, you can probably get it from here. To help, here is the schema diagram:\n",
    "\n",
    "![schema diagram](schema.png)\n",
    "\n",
    "Use your knowledge of the database schema and SQL commands to find out who committed the murder.\n",
    "### Check your solution\n",
    "\n",
    "Did you find the killer? When you think you know the answer, submit your suspect using the following code and find out if you're right.\n"
   ]
  },
  {
   "cell_type": "code",
   "execution_count": 33,
   "id": "416de3c3",
   "metadata": {},
   "outputs": [
    {
     "data": {
      "text/html": [
       "<span style=\"None\">Running query in &#x27;sqlite:///sql-murder-mystery.db&#x27;</span>"
      ],
      "text/plain": [
       "Running query in 'sqlite:///sql-murder-mystery.db'"
      ]
     },
     "metadata": {},
     "output_type": "display_data"
    },
    {
     "data": {
      "text/html": [
       "<table>\n",
       "    <thead>\n",
       "        <tr>\n",
       "            <th>date</th>\n",
       "            <th>type</th>\n",
       "            <th>description</th>\n",
       "            <th>city</th>\n",
       "        </tr>\n",
       "    </thead>\n",
       "    <tbody>\n",
       "        <tr>\n",
       "            <td>20180115</td>\n",
       "            <td>murder</td>\n",
       "            <td>Security footage shows that there were 2 witnesses. The first witness lives at the last house on \"Northwestern Dr\". The second witness, named Annabel, lives somewhere on \"Franklin Ave\".</td>\n",
       "            <td>SQL City</td>\n",
       "        </tr>\n",
       "    </tbody>\n",
       "</table>"
      ],
      "text/plain": [
       "+----------+--------+-------------------------------------------------------------------------------------------------------------------------------------------------------------------------------------------+----------+\n",
       "|   date   |  type  |                                                                                        description                                                                                        |   city   |\n",
       "+----------+--------+-------------------------------------------------------------------------------------------------------------------------------------------------------------------------------------------+----------+\n",
       "| 20180115 | murder | Security footage shows that there were 2 witnesses. The first witness lives at the last house on \"Northwestern Dr\". The second witness, named Annabel, lives somewhere on \"Franklin Ave\". | SQL City |\n",
       "+----------+--------+-------------------------------------------------------------------------------------------------------------------------------------------------------------------------------------------+----------+"
      ]
     },
     "execution_count": 33,
     "metadata": {},
     "output_type": "execute_result"
    }
   ],
   "source": [
    "%%sql\n",
    "SELECT * \n",
    "FROM crime_scene_report\n",
    "WHERE city = \"SQL City\" AND date = \"20180115\" AND type = \"murder\"\n",
    "# Northwestern Dr, Annabel Franklin Ave"
   ]
  },
  {
   "cell_type": "code",
   "execution_count": null,
   "id": "a8563454",
   "metadata": {},
   "outputs": [
    {
     "data": {
      "text/html": [
       "<span style=\"None\">Running query in &#x27;sqlite:///sql-murder-mystery.db&#x27;</span>"
      ],
      "text/plain": [
       "Running query in 'sqlite:///sql-murder-mystery.db'"
      ]
     },
     "metadata": {},
     "output_type": "display_data"
    },
    {
     "data": {
      "text/html": [
       "<table>\n",
       "    <thead>\n",
       "        <tr>\n",
       "            <th>id</th>\n",
       "            <th>name</th>\n",
       "            <th>license_id</th>\n",
       "            <th>address_number</th>\n",
       "            <th>address_street_name</th>\n",
       "            <th>ssn</th>\n",
       "        </tr>\n",
       "    </thead>\n",
       "    <tbody>\n",
       "        <tr>\n",
       "            <td>14887</td>\n",
       "            <td>Morty Schapiro</td>\n",
       "            <td>118009</td>\n",
       "            <td>4919</td>\n",
       "            <td>Northwestern Dr</td>\n",
       "            <td>111564949</td>\n",
       "        </tr>\n",
       "        <tr>\n",
       "            <td>17729</td>\n",
       "            <td>Lasonya Wildey</td>\n",
       "            <td>439686</td>\n",
       "            <td>3824</td>\n",
       "            <td>Northwestern Dr</td>\n",
       "            <td>917817122</td>\n",
       "        </tr>\n",
       "        <tr>\n",
       "            <td>53890</td>\n",
       "            <td>Sophie Tiberio</td>\n",
       "            <td>957671</td>\n",
       "            <td>3755</td>\n",
       "            <td>Northwestern Dr</td>\n",
       "            <td>442830147</td>\n",
       "        </tr>\n",
       "        <tr>\n",
       "            <td>73368</td>\n",
       "            <td>Torie Thalmann</td>\n",
       "            <td>773862</td>\n",
       "            <td>3697</td>\n",
       "            <td>Northwestern Dr</td>\n",
       "            <td>341559436</td>\n",
       "        </tr>\n",
       "        <tr>\n",
       "            <td>96595</td>\n",
       "            <td>Coretta Cubie</td>\n",
       "            <td>303645</td>\n",
       "            <td>3631</td>\n",
       "            <td>Northwestern Dr</td>\n",
       "            <td>378403829</td>\n",
       "        </tr>\n",
       "        <tr>\n",
       "            <td>19420</td>\n",
       "            <td>Cody Schiel</td>\n",
       "            <td>890431</td>\n",
       "            <td>3524</td>\n",
       "            <td>Northwestern Dr</td>\n",
       "            <td>947110049</td>\n",
       "        </tr>\n",
       "        <tr>\n",
       "            <td>93509</td>\n",
       "            <td>Emmitt Aceuedo</td>\n",
       "            <td>916706</td>\n",
       "            <td>3491</td>\n",
       "            <td>Northwestern Dr</td>\n",
       "            <td>979073160</td>\n",
       "        </tr>\n",
       "        <tr>\n",
       "            <td>87456</td>\n",
       "            <td>Leonora Wolfsberger</td>\n",
       "            <td>215868</td>\n",
       "            <td>3483</td>\n",
       "            <td>Northwestern Dr</td>\n",
       "            <td>565203106</td>\n",
       "        </tr>\n",
       "        <tr>\n",
       "            <td>36378</td>\n",
       "            <td>Freddie Ellzey</td>\n",
       "            <td>267882</td>\n",
       "            <td>3449</td>\n",
       "            <td>Northwestern Dr</td>\n",
       "            <td>474117596</td>\n",
       "        </tr>\n",
       "        <tr>\n",
       "            <td>53076</td>\n",
       "            <td>Boris Bijou</td>\n",
       "            <td>664914</td>\n",
       "            <td>3327</td>\n",
       "            <td>Northwestern Dr</td>\n",
       "            <td>401191868</td>\n",
       "        </tr>\n",
       "    </tbody>\n",
       "</table>\n",
       "<span style=\"font-style:italic;text-align:center;\">Truncated to <a href=\"https://jupysql.ploomber.io/en/latest/api/configuration.html#displaylimit\">displaylimit</a> of 10.</span>"
      ],
      "text/plain": [
       "+-------+---------------------+------------+----------------+---------------------+-----------+\n",
       "|   id  |         name        | license_id | address_number | address_street_name |    ssn    |\n",
       "+-------+---------------------+------------+----------------+---------------------+-----------+\n",
       "| 14887 |    Morty Schapiro   |   118009   |      4919      |   Northwestern Dr   | 111564949 |\n",
       "| 17729 |    Lasonya Wildey   |   439686   |      3824      |   Northwestern Dr   | 917817122 |\n",
       "| 53890 |    Sophie Tiberio   |   957671   |      3755      |   Northwestern Dr   | 442830147 |\n",
       "| 73368 |    Torie Thalmann   |   773862   |      3697      |   Northwestern Dr   | 341559436 |\n",
       "| 96595 |    Coretta Cubie    |   303645   |      3631      |   Northwestern Dr   | 378403829 |\n",
       "| 19420 |     Cody Schiel     |   890431   |      3524      |   Northwestern Dr   | 947110049 |\n",
       "| 93509 |    Emmitt Aceuedo   |   916706   |      3491      |   Northwestern Dr   | 979073160 |\n",
       "| 87456 | Leonora Wolfsberger |   215868   |      3483      |   Northwestern Dr   | 565203106 |\n",
       "| 36378 |    Freddie Ellzey   |   267882   |      3449      |   Northwestern Dr   | 474117596 |\n",
       "| 53076 |     Boris Bijou     |   664914   |      3327      |   Northwestern Dr   | 401191868 |\n",
       "+-------+---------------------+------------+----------------+---------------------+-----------+\n",
       "Truncated to displaylimit of 10."
      ]
     },
     "execution_count": 35,
     "metadata": {},
     "output_type": "execute_result"
    }
   ],
   "source": [
    "%%sql\n",
    "SELECT *\n",
    "FROM person\n",
    "WHERE address_street_name = 'Northwestern Dr'\n",
    "ORDER BY address_number DESC\n",
    "# id=14887 Morty Schapiro \n",
    "# id=14887 Morty Schapiro license_id=118009 address_number=4919 ssn=111564949"
   ]
  },
  {
   "cell_type": "code",
   "execution_count": 34,
   "id": "97577c83",
   "metadata": {},
   "outputs": [
    {
     "data": {
      "text/html": [
       "<span style=\"None\">Running query in &#x27;sqlite:///sql-murder-mystery.db&#x27;</span>"
      ],
      "text/plain": [
       "Running query in 'sqlite:///sql-murder-mystery.db'"
      ]
     },
     "metadata": {},
     "output_type": "display_data"
    },
    {
     "data": {
      "text/html": [
       "<table>\n",
       "    <thead>\n",
       "        <tr>\n",
       "            <th>id</th>\n",
       "            <th>name</th>\n",
       "            <th>license_id</th>\n",
       "            <th>address_number</th>\n",
       "            <th>address_street_name</th>\n",
       "            <th>ssn</th>\n",
       "        </tr>\n",
       "    </thead>\n",
       "    <tbody>\n",
       "        <tr>\n",
       "            <td>16371</td>\n",
       "            <td>Annabel Miller</td>\n",
       "            <td>490173</td>\n",
       "            <td>103</td>\n",
       "            <td>Franklin Ave</td>\n",
       "            <td>318771143</td>\n",
       "        </tr>\n",
       "    </tbody>\n",
       "</table>"
      ],
      "text/plain": [
       "+-------+----------------+------------+----------------+---------------------+-----------+\n",
       "|   id  |      name      | license_id | address_number | address_street_name |    ssn    |\n",
       "+-------+----------------+------------+----------------+---------------------+-----------+\n",
       "| 16371 | Annabel Miller |   490173   |      103       |     Franklin Ave    | 318771143 |\n",
       "+-------+----------------+------------+----------------+---------------------+-----------+"
      ]
     },
     "execution_count": 34,
     "metadata": {},
     "output_type": "execute_result"
    }
   ],
   "source": [
    "%%sql\n",
    "SELECT *\n",
    "FROM person\n",
    "WHERE address_street_name = 'Franklin Ave' AND name LIKE 'Annabel%'\n",
    "# id=16371 Annabel Miller license_id=490173 address_number=103 ssn=318771143\n"
   ]
  },
  {
   "cell_type": "code",
   "execution_count": null,
   "id": "5a2a7633",
   "metadata": {},
   "outputs": [
    {
     "data": {
      "text/html": [
       "<span style=\"None\">Running query in &#x27;sqlite:///sql-murder-mystery.db&#x27;</span>"
      ],
      "text/plain": [
       "Running query in 'sqlite:///sql-murder-mystery.db'"
      ]
     },
     "metadata": {},
     "output_type": "display_data"
    },
    {
     "data": {
      "text/html": [
       "<table>\n",
       "    <thead>\n",
       "        <tr>\n",
       "            <th>person_id</th>\n",
       "            <th>transcript</th>\n",
       "        </tr>\n",
       "    </thead>\n",
       "    <tbody>\n",
       "        <tr>\n",
       "            <td>14887</td>\n",
       "            <td>I heard a gunshot and then saw a man run out. He had a \"Get Fit Now Gym\" bag. The membership number on the bag started with \"48Z\". Only gold members have those bags. The man got into a car with a plate that included \"H42W\".</td>\n",
       "        </tr>\n",
       "        <tr>\n",
       "            <td>16371</td>\n",
       "            <td>I saw the murder happen, and I recognized the killer from my gym when I was working out last week on January the 9th.</td>\n",
       "        </tr>\n",
       "    </tbody>\n",
       "</table>"
      ],
      "text/plain": [
       "+-----------+---------------------------------------------------------------------------------------------------------------------------------------------------------------------------------------------------------------------------------+\n",
       "| person_id |                                                                                                            transcript                                                                                                           |\n",
       "+-----------+---------------------------------------------------------------------------------------------------------------------------------------------------------------------------------------------------------------------------------+\n",
       "|   14887   | I heard a gunshot and then saw a man run out. He had a \"Get Fit Now Gym\" bag. The membership number on the bag started with \"48Z\". Only gold members have those bags. The man got into a car with a plate that included \"H42W\". |\n",
       "|   16371   |                                                      I saw the murder happen, and I recognized the killer from my gym when I was working out last week on January the 9th.                                                      |\n",
       "+-----------+---------------------------------------------------------------------------------------------------------------------------------------------------------------------------------------------------------------------------------+"
      ]
     },
     "execution_count": 42,
     "metadata": {},
     "output_type": "execute_result"
    }
   ],
   "source": [
    "%%sql\n",
    "SELECT * \n",
    "FROM interview\n",
    "WHERE person_id='16371' OR person_id='14887'\n",
    "# I heard a gunshot and then saw a man run out. He had a \"Get Fit Now Gym\" bag.\n",
    "# The membership number on the bag started with \"48Z\". Only gold members have those bags. \n",
    "# The man got into a car with a plate that included \"H42W\".\n",
    "# I saw the murder happen, and I recognized the killer from my gym when I was working out last week on January the 9th."
   ]
  },
  {
   "cell_type": "code",
   "execution_count": null,
   "id": "050626e0",
   "metadata": {},
   "outputs": [
    {
     "data": {
      "text/html": [
       "<span style=\"None\">Running query in &#x27;sqlite:///sql-murder-mystery.db&#x27;</span>"
      ],
      "text/plain": [
       "Running query in 'sqlite:///sql-murder-mystery.db'"
      ]
     },
     "metadata": {},
     "output_type": "display_data"
    },
    {
     "data": {
      "text/html": [
       "<table>\n",
       "    <thead>\n",
       "        <tr>\n",
       "            <th>membership_id</th>\n",
       "            <th>check_in_date</th>\n",
       "            <th>check_in_time</th>\n",
       "            <th>check_out_time</th>\n",
       "            <th>id</th>\n",
       "            <th>person_id</th>\n",
       "            <th>name</th>\n",
       "            <th>membership_start_date</th>\n",
       "            <th>membership_status</th>\n",
       "        </tr>\n",
       "    </thead>\n",
       "    <tbody>\n",
       "        <tr>\n",
       "            <td>48Z7A</td>\n",
       "            <td>20180109</td>\n",
       "            <td>1600</td>\n",
       "            <td>1730</td>\n",
       "            <td>48Z7A</td>\n",
       "            <td>28819</td>\n",
       "            <td>Joe Germuska</td>\n",
       "            <td>20160305</td>\n",
       "            <td>gold</td>\n",
       "        </tr>\n",
       "        <tr>\n",
       "            <td>48Z55</td>\n",
       "            <td>20180109</td>\n",
       "            <td>1530</td>\n",
       "            <td>1700</td>\n",
       "            <td>48Z55</td>\n",
       "            <td>67318</td>\n",
       "            <td>Jeremy Bowers</td>\n",
       "            <td>20160101</td>\n",
       "            <td>gold</td>\n",
       "        </tr>\n",
       "    </tbody>\n",
       "</table>"
      ],
      "text/plain": [
       "+---------------+---------------+---------------+----------------+-------+-----------+---------------+-----------------------+-------------------+\n",
       "| membership_id | check_in_date | check_in_time | check_out_time |   id  | person_id |      name     | membership_start_date | membership_status |\n",
       "+---------------+---------------+---------------+----------------+-------+-----------+---------------+-----------------------+-------------------+\n",
       "|     48Z7A     |    20180109   |      1600     |      1730      | 48Z7A |   28819   |  Joe Germuska |        20160305       |        gold       |\n",
       "|     48Z55     |    20180109   |      1530     |      1700      | 48Z55 |   67318   | Jeremy Bowers |        20160101       |        gold       |\n",
       "+---------------+---------------+---------------+----------------+-------+-----------+---------------+-----------------------+-------------------+"
      ]
     },
     "execution_count": 47,
     "metadata": {},
     "output_type": "execute_result"
    }
   ],
   "source": [
    "%%sql\n",
    "SELECT * \n",
    "FROM get_fit_now_check_in a\n",
    "JOIN get_fit_now_member b\n",
    "ON a.membership_id=b.id\n",
    "WHERE check_in_date=20180109 AND membership_id LIKE '48Z%'\n",
    "# person_id = 28819 Joe Germuska\n",
    "# person_id = 67318 Jeremy Bowers"
   ]
  },
  {
   "cell_type": "code",
   "execution_count": null,
   "id": "e09a212a",
   "metadata": {},
   "outputs": [
    {
     "data": {
      "text/html": [
       "<span style=\"None\">Running query in &#x27;sqlite:///sql-murder-mystery.db&#x27;</span>"
      ],
      "text/plain": [
       "Running query in 'sqlite:///sql-murder-mystery.db'"
      ]
     },
     "metadata": {},
     "output_type": "display_data"
    },
    {
     "data": {
      "text/html": [
       "<table>\n",
       "    <thead>\n",
       "        <tr>\n",
       "            <th>id</th>\n",
       "            <th>name</th>\n",
       "            <th>license_id</th>\n",
       "            <th>address_number</th>\n",
       "            <th>address_street_name</th>\n",
       "            <th>ssn</th>\n",
       "            <th>id_1</th>\n",
       "            <th>age</th>\n",
       "            <th>height</th>\n",
       "            <th>eye_color</th>\n",
       "            <th>hair_color</th>\n",
       "            <th>gender</th>\n",
       "            <th>plate_number</th>\n",
       "            <th>car_make</th>\n",
       "            <th>car_model</th>\n",
       "        </tr>\n",
       "    </thead>\n",
       "    <tbody>\n",
       "        <tr>\n",
       "            <td>67318</td>\n",
       "            <td>Jeremy Bowers</td>\n",
       "            <td>423327</td>\n",
       "            <td>530</td>\n",
       "            <td>Washington Pl, Apt 3A</td>\n",
       "            <td>871539279</td>\n",
       "            <td>423327</td>\n",
       "            <td>30</td>\n",
       "            <td>70</td>\n",
       "            <td>brown</td>\n",
       "            <td>brown</td>\n",
       "            <td>male</td>\n",
       "            <td>0H42W2</td>\n",
       "            <td>Chevrolet</td>\n",
       "            <td>Spark LS</td>\n",
       "        </tr>\n",
       "    </tbody>\n",
       "</table>"
      ],
      "text/plain": [
       "+-------+---------------+------------+----------------+-----------------------+-----------+--------+-----+--------+-----------+------------+--------+--------------+-----------+-----------+\n",
       "|   id  |      name     | license_id | address_number |  address_street_name  |    ssn    |  id_1  | age | height | eye_color | hair_color | gender | plate_number |  car_make | car_model |\n",
       "+-------+---------------+------------+----------------+-----------------------+-----------+--------+-----+--------+-----------+------------+--------+--------------+-----------+-----------+\n",
       "| 67318 | Jeremy Bowers |   423327   |      530       | Washington Pl, Apt 3A | 871539279 | 423327 |  30 |   70   |   brown   |   brown    |  male  |    0H42W2    | Chevrolet |  Spark LS |\n",
       "+-------+---------------+------------+----------------+-----------------------+-----------+--------+-----+--------+-----------+------------+--------+--------------+-----------+-----------+"
      ]
     },
     "execution_count": 60,
     "metadata": {},
     "output_type": "execute_result"
    }
   ],
   "source": [
    "%%sql\n",
    "SELECT * \n",
    "FROM person x\n",
    "JOIN drivers_license y\n",
    "ON x.license_id=y.id\n",
    "WHERE x.id=28819 or x.id=67318\n",
    "# Jeremy Bowers"
   ]
  },
  {
   "cell_type": "code",
   "execution_count": 61,
   "id": "830ea4a6",
   "metadata": {},
   "outputs": [
    {
     "data": {
      "text/html": [
       "<span style=\"None\">Running query in &#x27;sqlite:///sql-murder-mystery.db&#x27;</span>"
      ],
      "text/plain": [
       "Running query in 'sqlite:///sql-murder-mystery.db'"
      ]
     },
     "metadata": {},
     "output_type": "display_data"
    },
    {
     "data": {
      "text/html": [
       "<span style=\"color: green\">1 rows affected.</span>"
      ],
      "text/plain": [
       "1 rows affected."
      ]
     },
     "metadata": {},
     "output_type": "display_data"
    },
    {
     "data": {
      "text/html": [
       "<table>\n",
       "    <thead>\n",
       "        <tr>\n",
       "            <th>value</th>\n",
       "        </tr>\n",
       "    </thead>\n",
       "    <tbody>\n",
       "        <tr>\n",
       "            <td>Congrats, you found the murderer! But wait, there's more... If you think you're up for a challenge, try querying the interview transcript of the murderer to find the real villain behind this crime. If you feel especially confident in your SQL skills, try to complete this final step with no more than 2 queries. Use this same INSERT statement with your new suspect to check your answer.</td>\n",
       "        </tr>\n",
       "    </tbody>\n",
       "</table>"
      ],
      "text/plain": [
       "+----------------------------------------------------------------------------------------------------------------------------------------------------------------------------------------------------------------------------------------------------------------------------------------------------------------------------------------------------------------------------------------------------+\n",
       "|                                                                                                                                                                                               value                                                                                                                                                                                                |\n",
       "+----------------------------------------------------------------------------------------------------------------------------------------------------------------------------------------------------------------------------------------------------------------------------------------------------------------------------------------------------------------------------------------------------+\n",
       "| Congrats, you found the murderer! But wait, there's more... If you think you're up for a challenge, try querying the interview transcript of the murderer to find the real villain behind this crime. If you feel especially confident in your SQL skills, try to complete this final step with no more than 2 queries. Use this same INSERT statement with your new suspect to check your answer. |\n",
       "+----------------------------------------------------------------------------------------------------------------------------------------------------------------------------------------------------------------------------------------------------------------------------------------------------------------------------------------------------------------------------------------------------+"
      ]
     },
     "execution_count": 61,
     "metadata": {},
     "output_type": "execute_result"
    }
   ],
   "source": [
    "%%sql\n",
    "INSERT INTO solution VALUES (1, 'Jeremy Bowers');\n",
    "SELECT value FROM solution;"
   ]
  },
  {
   "cell_type": "code",
   "execution_count": 62,
   "id": "284072e2",
   "metadata": {},
   "outputs": [
    {
     "data": {
      "text/html": [
       "<span style=\"None\">Running query in &#x27;sqlite:///sql-murder-mystery.db&#x27;</span>"
      ],
      "text/plain": [
       "Running query in 'sqlite:///sql-murder-mystery.db'"
      ]
     },
     "metadata": {},
     "output_type": "display_data"
    },
    {
     "data": {
      "text/html": [
       "<table>\n",
       "    <thead>\n",
       "        <tr>\n",
       "            <th>person_id</th>\n",
       "            <th>transcript</th>\n",
       "        </tr>\n",
       "    </thead>\n",
       "    <tbody>\n",
       "        <tr>\n",
       "            <td>67318</td>\n",
       "            <td>I was hired by a woman with a lot of money. I don't know her name but I know she's around 5'5\" (65\") or 5'7\" (67\"). She has red hair and she drives a Tesla Model S. I know that she attended the SQL Symphony Concert 3 times in December 2017.<br></td>\n",
       "        </tr>\n",
       "    </tbody>\n",
       "</table>"
      ],
      "text/plain": [
       "+-----------+--------------------------------------------------------------------------------------------------------------------------------------------------------------------------------------------------------------------------------------------------+\n",
       "| person_id |                                                                                                                    transcript                                                                                                                    |\n",
       "+-----------+--------------------------------------------------------------------------------------------------------------------------------------------------------------------------------------------------------------------------------------------------+\n",
       "|   67318   | I was hired by a woman with a lot of money. I don't know her name but I know she's around 5'5\" (65\") or 5'7\" (67\"). She has red hair and she drives a Tesla Model S. I know that she attended the SQL Symphony Concert 3 times in December 2017. |\n",
       "|           |                                                                                                                                                                                                                                                  |\n",
       "+-----------+--------------------------------------------------------------------------------------------------------------------------------------------------------------------------------------------------------------------------------------------------+"
      ]
     },
     "execution_count": 62,
     "metadata": {},
     "output_type": "execute_result"
    }
   ],
   "source": [
    "%%sql\n",
    "SELECT *\n",
    "FROM interview\n",
    "WHERE person_id=67318"
   ]
  },
  {
   "cell_type": "code",
   "execution_count": null,
   "id": "9615f313",
   "metadata": {},
   "outputs": [],
   "source": []
  }
 ],
 "metadata": {
  "kernelspec": {
   "display_name": "sarahli",
   "language": "python",
   "name": "python3"
  },
  "language_info": {
   "codemirror_mode": {
    "name": "ipython",
    "version": 3
   },
   "file_extension": ".py",
   "mimetype": "text/x-python",
   "name": "python",
   "nbconvert_exporter": "python",
   "pygments_lexer": "ipython3",
   "version": "3.9.12"
  }
 },
 "nbformat": 4,
 "nbformat_minor": 5
}
